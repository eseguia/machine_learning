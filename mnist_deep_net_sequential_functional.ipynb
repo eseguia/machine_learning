{
 "cells": [
  {
   "cell_type": "code",
   "execution_count": 9,
   "id": "a52751f0",
   "metadata": {},
   "outputs": [],
   "source": [
    "import tensorflow as tf\n",
    "from tensorflow import keras\n",
    "from tensorflow.keras import layers\n",
    "from tensorflow.keras.datasets import mnist"
   ]
  },
  {
   "cell_type": "markdown",
   "id": "3c7fecfd",
   "metadata": {},
   "source": [
    "#### input > weight > hidden layer 1 (activation func) > weight > hidden layer 2 (activ func) > weight > output \n",
    "#### compare output to intended output > cost function (cross entropy)\n",
    "#### optimization func > minimize cost (AdamOptimizer, SGD, AdaGrad ....)\n",
    "#### feed foward + backpropagation = epoch"
   ]
  },
  {
   "cell_type": "code",
   "execution_count": 10,
   "id": "d50672cb",
   "metadata": {},
   "outputs": [
    {
     "name": "stdout",
     "output_type": "stream",
     "text": [
      "Downloading data from https://storage.googleapis.com/tensorflow/tf-keras-datasets/mnist.npz\n",
      "11493376/11490434 [==============================] - 1s 0us/step\n",
      "11501568/11490434 [==============================] - 1s 0us/step\n"
     ]
    }
   ],
   "source": [
    "(x_train, y_train), (x_test, y_test) = mnist.load_data()\n",
    "x_train = x_train.reshape(-1, 28 * 28).astype(\"float32\") / 255.0\n",
    "x_test = x_test.reshape(-1, 28 * 28).astype(\"float32\") / 255.0"
   ]
  },
  {
   "cell_type": "markdown",
   "id": "cafed224",
   "metadata": {},
   "source": [
    "### SequentialAPI"
   ]
  },
  {
   "cell_type": "code",
   "execution_count": 18,
   "id": "1ce0bbe9",
   "metadata": {},
   "outputs": [
    {
     "name": "stdout",
     "output_type": "stream",
     "text": [
      "Model: \"sequential_3\"\n",
      "_________________________________________________________________\n",
      " Layer (type)                Output Shape              Param #   \n",
      "=================================================================\n",
      " dense_11 (Dense)            (None, 512)               401920    \n",
      "                                                                 \n",
      " dense_12 (Dense)            (None, 256)               131328    \n",
      "                                                                 \n",
      " dense_13 (Dense)            (None, 10)                2570      \n",
      "                                                                 \n",
      "=================================================================\n",
      "Total params: 535,818\n",
      "Trainable params: 535,818\n",
      "Non-trainable params: 0\n",
      "_________________________________________________________________\n",
      "None\n"
     ]
    }
   ],
   "source": [
    "model = keras.Sequential(\n",
    "    [\n",
    "        keras.Input(shape = (28*28)),   # allows to later see model.summary()\n",
    "        layers.Dense(512, activation = 'relu'),  # layer 1\n",
    "        layers.Dense(256, activation = 'relu'),  # layer 2\n",
    "        layers.Dense(10), #output\n",
    "    ]\n",
    ")\n",
    "\n",
    "print(model.summary())\n",
    "\n",
    "model.compile(\n",
    "    loss = keras.losses.SparseCategoricalCrossentropy(from_logits = True),\n",
    "    optimizer = keras.optimizers.Adam(learning_rate = 0.0001),\n",
    "    metrics = ['accuracy'],\n",
    ")"
   ]
  },
  {
   "cell_type": "code",
   "execution_count": 20,
   "id": "41a6b712",
   "metadata": {},
   "outputs": [
    {
     "name": "stdout",
     "output_type": "stream",
     "text": [
      "Epoch 1/20\n",
      "1875/1875 - 5s - loss: 0.0158 - accuracy: 0.9962 - 5s/epoch - 3ms/step\n",
      "Epoch 2/20\n",
      "1875/1875 - 5s - loss: 0.0125 - accuracy: 0.9970 - 5s/epoch - 3ms/step\n",
      "Epoch 3/20\n",
      "1875/1875 - 5s - loss: 0.0100 - accuracy: 0.9976 - 5s/epoch - 3ms/step\n",
      "Epoch 4/20\n",
      "1875/1875 - 5s - loss: 0.0075 - accuracy: 0.9987 - 5s/epoch - 3ms/step\n",
      "Epoch 5/20\n",
      "1875/1875 - 5s - loss: 0.0061 - accuracy: 0.9988 - 5s/epoch - 3ms/step\n",
      "Epoch 6/20\n",
      "1875/1875 - 4s - loss: 0.0049 - accuracy: 0.9990 - 4s/epoch - 2ms/step\n",
      "Epoch 7/20\n",
      "1875/1875 - 4s - loss: 0.0043 - accuracy: 0.9991 - 4s/epoch - 2ms/step\n",
      "Epoch 8/20\n",
      "1875/1875 - 4s - loss: 0.0035 - accuracy: 0.9993 - 4s/epoch - 2ms/step\n",
      "Epoch 9/20\n",
      "1875/1875 - 4s - loss: 0.0020 - accuracy: 0.9998 - 4s/epoch - 2ms/step\n",
      "Epoch 10/20\n",
      "1875/1875 - 4s - loss: 0.0031 - accuracy: 0.9995 - 4s/epoch - 2ms/step\n",
      "Epoch 11/20\n",
      "1875/1875 - 4s - loss: 0.0035 - accuracy: 0.9990 - 4s/epoch - 2ms/step\n",
      "Epoch 12/20\n",
      "1875/1875 - 4s - loss: 0.0014 - accuracy: 0.9998 - 4s/epoch - 2ms/step\n",
      "Epoch 13/20\n",
      "1875/1875 - 4s - loss: 0.0032 - accuracy: 0.9991 - 4s/epoch - 2ms/step\n",
      "Epoch 14/20\n",
      "1875/1875 - 4s - loss: 0.0013 - accuracy: 0.9998 - 4s/epoch - 2ms/step\n",
      "Epoch 15/20\n",
      "1875/1875 - 4s - loss: 0.0022 - accuracy: 0.9995 - 4s/epoch - 2ms/step\n",
      "Epoch 16/20\n",
      "1875/1875 - 4s - loss: 0.0018 - accuracy: 0.9995 - 4s/epoch - 2ms/step\n",
      "Epoch 17/20\n",
      "1875/1875 - 4s - loss: 0.0010 - accuracy: 0.9998 - 4s/epoch - 2ms/step\n",
      "Epoch 18/20\n",
      "1875/1875 - 4s - loss: 0.0020 - accuracy: 0.9994 - 4s/epoch - 2ms/step\n",
      "Epoch 19/20\n",
      "1875/1875 - 4s - loss: 0.0015 - accuracy: 0.9997 - 4s/epoch - 2ms/step\n",
      "Epoch 20/20\n",
      "1875/1875 - 4s - loss: 0.0014 - accuracy: 0.9997 - 4s/epoch - 2ms/step\n",
      "313/313 - 0s - loss: 0.0904 - accuracy: 0.9821 - 239ms/epoch - 765us/step\n"
     ]
    },
    {
     "data": {
      "text/plain": [
       "[0.09035567194223404, 0.9821000099182129]"
      ]
     },
     "execution_count": 20,
     "metadata": {},
     "output_type": "execute_result"
    }
   ],
   "source": [
    "model.fit(x_train, y_train, batch_size = 32, epochs = 20, verbose = 2)\n",
    "model.evaluate(x_test, y_test, batch_size = 32, verbose = 2)"
   ]
  },
  {
   "cell_type": "markdown",
   "id": "22d482d9",
   "metadata": {},
   "source": [
    "### Functional API (A bit more flexible)"
   ]
  },
  {
   "cell_type": "code",
   "execution_count": 17,
   "id": "7395ce99",
   "metadata": {},
   "outputs": [
    {
     "name": "stdout",
     "output_type": "stream",
     "text": [
      "Epoch 1/10\n",
      "1875/1875 - 5s - loss: 0.1850 - accuracy: 0.9436 - 5s/epoch - 2ms/step\n",
      "Epoch 2/10\n",
      "1875/1875 - 4s - loss: 0.0785 - accuracy: 0.9751 - 4s/epoch - 2ms/step\n",
      "Epoch 3/10\n",
      "1875/1875 - 5s - loss: 0.0542 - accuracy: 0.9830 - 5s/epoch - 3ms/step\n",
      "Epoch 4/10\n",
      "1875/1875 - 4s - loss: 0.0422 - accuracy: 0.9863 - 4s/epoch - 2ms/step\n",
      "Epoch 5/10\n",
      "1875/1875 - 4s - loss: 0.0327 - accuracy: 0.9898 - 4s/epoch - 2ms/step\n",
      "Epoch 6/10\n",
      "1875/1875 - 4s - loss: 0.0264 - accuracy: 0.9913 - 4s/epoch - 2ms/step\n",
      "Epoch 7/10\n",
      "1875/1875 - 5s - loss: 0.0224 - accuracy: 0.9928 - 5s/epoch - 2ms/step\n",
      "Epoch 8/10\n",
      "1875/1875 - 4s - loss: 0.0221 - accuracy: 0.9930 - 4s/epoch - 2ms/step\n",
      "Epoch 9/10\n",
      "1875/1875 - 5s - loss: 0.0207 - accuracy: 0.9935 - 5s/epoch - 2ms/step\n",
      "Epoch 10/10\n",
      "1875/1875 - 4s - loss: 0.0163 - accuracy: 0.9946 - 4s/epoch - 2ms/step\n",
      "313/313 - 0s - loss: 0.0982 - accuracy: 0.9807 - 361ms/epoch - 1ms/step\n"
     ]
    },
    {
     "data": {
      "text/plain": [
       "[0.09822608530521393, 0.9807000160217285]"
      ]
     },
     "execution_count": 17,
     "metadata": {},
     "output_type": "execute_result"
    }
   ],
   "source": [
    "inputs = keras.Input(shape=(28*28))\n",
    "x = layers.Dense(512, activation=\"relu\", name=\"first_layer\")(inputs)\n",
    "x = layers.Dense(256, activation=\"relu\", name=\"second_layer\")(x)\n",
    "outputs = layers.Dense(10, activation=\"softmax\")(x)\n",
    "model = keras.Model(inputs=inputs, outputs=outputs)\n",
    "\n",
    "model.compile(\n",
    "    loss=keras.losses.SparseCategoricalCrossentropy(from_logits=False),\n",
    "    optimizer=keras.optimizers.Adam(learning_rate=0.001),\n",
    "    metrics=[\"accuracy\"],\n",
    ")\n",
    "\n",
    "model.fit(x_train, y_train, batch_size=32, epochs=10, verbose=2)\n",
    "model.evaluate(x_test, y_test, batch_size=32, verbose=2)"
   ]
  },
  {
   "cell_type": "code",
   "execution_count": null,
   "id": "fadb54a1",
   "metadata": {},
   "outputs": [],
   "source": []
  }
 ],
 "metadata": {
  "kernelspec": {
   "display_name": "Python 3 (ipykernel)",
   "language": "python",
   "name": "python3"
  },
  "language_info": {
   "codemirror_mode": {
    "name": "ipython",
    "version": 3
   },
   "file_extension": ".py",
   "mimetype": "text/x-python",
   "name": "python",
   "nbconvert_exporter": "python",
   "pygments_lexer": "ipython3",
   "version": "3.9.7"
  }
 },
 "nbformat": 4,
 "nbformat_minor": 5
}
